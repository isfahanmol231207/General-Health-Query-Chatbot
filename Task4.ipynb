{
  "nbformat": 4,
  "nbformat_minor": 0,
  "metadata": {
    "colab": {
      "provenance": []
    },
    "kernelspec": {
      "name": "python3",
      "display_name": "Python 3"
    },
    "language_info": {
      "name": "python"
    }
  },
  "cells": [
    {
      "cell_type": "code",
      "execution_count": null,
      "metadata": {
        "id": "TQ2CVfmEbwvw"
      },
      "outputs": [],
      "source": [
        "tgp_v1_g_DJgpFFlqIZ91eQRHVyfoEQIUb8ed809g9_7zY62e4"
      ]
    },
    {
      "cell_type": "code",
      "source": [
        "import requests\n",
        "\n",
        "# API configuration\n",
        "api_key = \"tgp_v1_g_DJgpFFlqIZ91eQRHVyfoEQIUb8ed809g9_7zY62e4\"\n",
        "url = \"https://api.together.xyz/v1/chat/completions\"\n",
        "\n",
        "headers = {\n",
        "    \"Authorization\": f\"Bearer {api_key}\",\n",
        "    \"Content-Type\": \"application/json\"\n",
        "}\n",
        "\n",
        "# Take user query\n",
        "user_query = input(\"You: \")\n",
        "\n",
        "# Request payload\n",
        "data = {\n",
        "    \"model\": \"mistralai/Mistral-7B-Instruct-v0.1\",\n",
        "    \"messages\": [\n",
        "        {\"role\": \"system\", \"content\": \"You are a helpful assistant.\"},\n",
        "        {\"role\": \"user\", \"content\": user_query}\n",
        "    ],\n",
        "    \"max_tokens\": 200,\n",
        "    \"temperature\": 0.7\n",
        "}\n",
        "\n",
        "# Make request\n",
        "response = requests.post(url, headers=headers, json=data)\n",
        "output = response.json()\n",
        "\n",
        "# Handle and display response\n",
        "if 'error' in output:\n",
        "    print(\"API Error:\", output['error']['message'])\n",
        "elif 'choices' in output and len(output['choices']) > 0:\n",
        "    print(\"Bot:\", output['choices'][0]['message']['content'])\n",
        "else:\n",
        "    print(\"Unexpected API response:\", output)\n"
      ],
      "metadata": {
        "colab": {
          "base_uri": "https://localhost:8080/"
        },
        "id": "waXu9-vhci-t",
        "outputId": "63dd23ec-00af-4eb6-85e8-ef1361a0a3b6"
      },
      "execution_count": 3,
      "outputs": [
        {
          "output_type": "stream",
          "name": "stdout",
          "text": [
            "You: what is headache\n",
            "Bot:  A headache is a common health condition characterized by pain or discomfort in the head or face. Headaches can be caused by a variety of factors, including stress, lack of sleep, dehydration, certain foods or drinks, changes in weather, hormones, and certain medical conditions. The symptoms of a headache can range from a mild ache to a severe pain that can interfere with daily activities. Some people may also experience nausea, dizziness, or sensitivity to light or sound.\n"
          ]
        }
      ]
    },
    {
      "cell_type": "code",
      "source": [],
      "metadata": {
        "id": "2jaIOKzkcuZ8"
      },
      "execution_count": null,
      "outputs": []
    }
  ]
}